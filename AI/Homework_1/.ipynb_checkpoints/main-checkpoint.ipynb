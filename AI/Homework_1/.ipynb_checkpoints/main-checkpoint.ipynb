{
 "cells": [
  {
   "cell_type": "code",
   "execution_count": null,
   "id": "likely-spring",
   "metadata": {
    "colab": {
     "base_uri": "https://localhost:8080/"
    },
    "executionInfo": {
     "elapsed": 8073,
     "status": "ok",
     "timestamp": 1738555812469,
     "user": {
      "displayName": "林慧旻",
      "userId": "15332772837418726536"
     },
     "user_tz": -480
    },
    "id": "likely-spring",
    "outputId": "67ba0279-84a3-4c7b-95ae-5f282c23b958"
   },
   "outputs": [],
   "source": [
    "# For Google Colab\n",
    "# Install folium package.\n",
    "!pip install folium"
   ]
  },
  {
   "cell_type": "code",
   "execution_count": null,
   "id": "legislative-animal",
   "metadata": {
    "colab": {
     "base_uri": "https://localhost:8080/"
    },
    "executionInfo": {
     "elapsed": 4195,
     "status": "ok",
     "timestamp": 1738555932065,
     "user": {
      "displayName": "林慧旻",
      "userId": "15332772837418726536"
     },
     "user_tz": -480
    },
    "id": "legislative-animal",
    "outputId": "1c64f191-c156-4619-f1a0-0ce4550ae81a"
   },
   "outputs": [],
   "source": [
    "# For Google Colab\n",
    "# Mount your Google drive and copy all files from \"AI_HW2\" directory\n",
    "# in your Google drive to current directory.\n",
    "from google.colab import drive\n",
    "drive.mount('/content/gdrive', force_remount=True)\n",
    "!cp -r ./gdrive/MyDrive/AI_HW2/AI_HW1/code/* ."
   ]
  },
  {
   "cell_type": "code",
   "execution_count": 2,
   "id": "legitimate-luxury",
   "metadata": {
    "executionInfo": {
     "elapsed": 3,
     "status": "ok",
     "timestamp": 1738555932065,
     "user": {
      "displayName": "林慧旻",
      "userId": "15332772837418726536"
     },
     "user_tz": -480
    },
    "id": "legitimate-luxury"
   },
   "outputs": [],
   "source": [
    "# Don't change this part.\n",
    "# For load graph information and show map\n",
    "import folium\n",
    "import pickle\n",
    "def load_path_graph(path):\n",
    "    with open('graph.pkl', 'rb') as f:\n",
    "        graph = pickle.load(f)\n",
    "\n",
    "    node_pairs = list(zip(path[:-1], path[1:]))\n",
    "    lines = []\n",
    "    for edge in graph:\n",
    "        if (edge['u'], edge['v']) in node_pairs or  (edge['v'], edge['u']) in node_pairs:\n",
    "            lines.append(edge['geometry'])\n",
    "    return lines"
   ]
  },
  {
   "cell_type": "code",
   "execution_count": 25,
   "id": "functioning-photograph",
   "metadata": {
    "executionInfo": {
     "elapsed": 314,
     "status": "ok",
     "timestamp": 1738556167807,
     "user": {
      "displayName": "林慧旻",
      "userId": "15332772837418726536"
     },
     "user_tz": -480
    },
    "id": "functioning-photograph"
   },
   "outputs": [],
   "source": [
    "# Part 1~4 and 6\n",
    "# You can wirte in new .py files and import it.\n",
    "# ex: from astar import astar\n",
    "\n",
    "from bfs import bfs\n",
    "#from dfs_stack import dfs\n",
    "from dfs_recursive import dfs\n",
    "from ucs import ucs\n",
    "from astar import astar"
   ]
  },
  {
   "cell_type": "code",
   "execution_count": 26,
   "id": "collective-martin",
   "metadata": {
    "executionInfo": {
     "elapsed": 1,
     "status": "ok",
     "timestamp": 1738556168613,
     "user": {
      "displayName": "林慧旻",
      "userId": "15332772837418726536"
     },
     "user_tz": -480
    },
    "id": "collective-martin"
   },
   "outputs": [],
   "source": [
    "# Part 5\n",
    "# Change start ID and end ID.\n",
    "start = 426882161\n",
    "end = 1737223506 #1079387396"
   ]
  },
  {
   "cell_type": "code",
   "execution_count": 27,
   "id": "fxwE1mRZrLkS",
   "metadata": {
    "executionInfo": {
     "elapsed": 1,
     "status": "ok",
     "timestamp": 1738556169029,
     "user": {
      "displayName": "林慧旻",
      "userId": "15332772837418726536"
     },
     "user_tz": -480
    },
    "id": "fxwE1mRZrLkS"
   },
   "outputs": [],
   "source": [
    "import sys\n",
    "sys.setrecursionlimit(10000)"
   ]
  },
  {
   "cell_type": "code",
   "execution_count": null,
   "id": "burning-green",
   "metadata": {
    "colab": {
     "base_uri": "https://localhost:8080/",
     "height": 1000
    },
    "executionInfo": {
     "elapsed": 693,
     "status": "ok",
     "timestamp": 1738556170470,
     "user": {
      "displayName": "林慧旻",
      "userId": "15332772837418726536"
     },
     "user_tz": -480
    },
    "id": "burning-green",
    "outputId": "ae1491f6-e7d2-44a5-cdc3-1717e8e43180",
    "scrolled": false
   },
   "outputs": [],
   "source": [
    "# Don't change this part.\n",
    "# Show the result of BFS\n",
    "bfs_path, bfs_dist, bfs_visited = bfs(start, end)\n",
    "print(f'The number of nodes in the path found by BFS: {len(bfs_path)}')\n",
    "print(f'Total distance of path found by BFS: {bfs_dist} m')\n",
    "print(f'The number of visited nodes in BFS: {bfs_visited}\\n')\n",
    "\n",
    "fmap = folium.Map(location=(24.806383132251874, 120.97685775516189), zoom_start=13)\n",
    "for line in load_path_graph(bfs_path):\n",
    "    fmap.add_child(folium.PolyLine(locations=line, tooltip='bfs', weight=4, color='blue'))\n",
    "fmap"
   ]
  },
  {
   "cell_type": "code",
   "execution_count": null,
   "id": "dirty-strip",
   "metadata": {
    "colab": {
     "base_uri": "https://localhost:8080/",
     "height": 1000
    },
    "executionInfo": {
     "elapsed": 5158,
     "status": "ok",
     "timestamp": 1738556177376,
     "user": {
      "displayName": "林慧旻",
      "userId": "15332772837418726536"
     },
     "user_tz": -480
    },
    "id": "dirty-strip",
    "outputId": "a156e4b0-416a-4ee3-e627-a810a0afdea6"
   },
   "outputs": [],
   "source": [
    "# Don't change this part.\n",
    "# Show the result of DFS\n",
    "dfs_path, dfs_dist, dfs_visited = dfs(start, end)\n",
    "print(f'The number of nodes in the path found by DFS: {len(dfs_path)}')\n",
    "print(f'Total distance of path found by DFS: {dfs_dist} m')\n",
    "print(f'The number of visited nodes in DFS: {dfs_visited}\\n')\n",
    "\n",
    "fmap = folium.Map(location=(24.806383132251874, 120.97685775516189), zoom_start=13)\n",
    "for line in load_path_graph(dfs_path):\n",
    "    fmap.add_child(folium.PolyLine(locations=line, tooltip='dfs', weight=4, color='green'))\n",
    "fmap"
   ]
  },
  {
   "cell_type": "code",
   "execution_count": null,
   "id": "vnXK7GQMoYbk",
   "metadata": {
    "colab": {
     "base_uri": "https://localhost:8080/",
     "height": 1000
    },
    "executionInfo": {
     "elapsed": 4223,
     "status": "ok",
     "timestamp": 1738556187995,
     "user": {
      "displayName": "林慧旻",
      "userId": "15332772837418726536"
     },
     "user_tz": -480
    },
    "id": "vnXK7GQMoYbk",
    "outputId": "80d1fa68-aa2e-45d2-ccf7-aafedf33d4e3"
   },
   "outputs": [],
   "source": [
    "# Don't change this part.\n",
    "# Show the result of DFS\n",
    "from dfs_stack import dfs\n",
    "dfs_path, dfs_dist, dfs_visited = dfs(start, end)\n",
    "print(f'The number of nodes in the path found by DFS: {len(dfs_path)}')\n",
    "print(f'Total distance of path found by DFS: {dfs_dist} m')\n",
    "print(f'The number of visited nodes in DFS: {dfs_visited}\\n')\n",
    "\n",
    "fmap = folium.Map(location=(24.806383132251874, 120.97685775516189), zoom_start=13)\n",
    "for line in load_path_graph(dfs_path):\n",
    "    fmap.add_child(folium.PolyLine(locations=line, tooltip='dfs', weight=4, color='green'))\n",
    "fmap"
   ]
  },
  {
   "cell_type": "code",
   "execution_count": null,
   "id": "broke-target",
   "metadata": {
    "colab": {
     "base_uri": "https://localhost:8080/",
     "height": 1000
    },
    "executionInfo": {
     "elapsed": 724,
     "status": "ok",
     "timestamp": 1738556200471,
     "user": {
      "displayName": "林慧旻",
      "userId": "15332772837418726536"
     },
     "user_tz": -480
    },
    "id": "broke-target",
    "outputId": "d9bdfe58-5ecd-4ffd-dc7c-b07d02d2ad25"
   },
   "outputs": [],
   "source": [
    "# Don't change this part.\n",
    "# Show the result of UCS\n",
    "ucs_path, ucs_dist, ucs_visited = ucs(start, end)\n",
    "print(f'The number of nodes in the path found by UCS: {len(ucs_path)}')\n",
    "print(f'Total distance of path found by UCS: {ucs_dist} m')\n",
    "print(f'The number of visited nodes in UCS: {ucs_visited}\\n')\n",
    "\n",
    "fmap = folium.Map(location=(24.806383132251874, 120.97685775516189), zoom_start=13)\n",
    "for line in load_path_graph(ucs_path):\n",
    "    fmap.add_child(folium.PolyLine(locations=line, tooltip='ucs', weight=4, color='violet'))\n",
    "fmap"
   ]
  },
  {
   "cell_type": "code",
   "execution_count": null,
   "id": "stable-lightweight",
   "metadata": {
    "colab": {
     "base_uri": "https://localhost:8080/",
     "height": 1000
    },
    "executionInfo": {
     "elapsed": 732,
     "status": "ok",
     "timestamp": 1738556435046,
     "user": {
      "displayName": "林慧旻",
      "userId": "15332772837418726536"
     },
     "user_tz": -480
    },
    "id": "stable-lightweight",
    "outputId": "23e9d24f-60ce-4958-d2a9-2a47e504d81b"
   },
   "outputs": [],
   "source": [
    "# Don't change this part.\n",
    "# Show the result of A* search\n",
    "astar_path, astar_dist, astar_visited = astar(start, end)\n",
    "print(f'The number of nodes in the path found by A* search: {len(astar_path)}')\n",
    "print(f'Total distance of path found by A* search: {astar_dist} m')\n",
    "print(f'The number of visited nodes in A* search: {astar_visited}\\n')\n",
    "\n",
    "fmap = folium.Map(location=(24.806383132251874, 120.97685775516189), zoom_start=13)\n",
    "for line in load_path_graph(astar_path):\n",
    "    fmap.add_child(folium.PolyLine(locations=line, tooltip='astar', weight=4, color='red'))\n",
    "fmap"
   ]
  }
 ],
 "metadata": {
  "colab": {
   "provenance": []
  },
  "kernelspec": {
   "display_name": "Python 3",
   "language": "python",
   "name": "python3"
  },
  "language_info": {
   "codemirror_mode": {
    "name": "ipython",
    "version": 3
   },
   "file_extension": ".py",
   "mimetype": "text/x-python",
   "name": "python",
   "nbconvert_exporter": "python",
   "pygments_lexer": "ipython3",
   "version": "3.12.4"
  }
 },
 "nbformat": 4,
 "nbformat_minor": 5
}
